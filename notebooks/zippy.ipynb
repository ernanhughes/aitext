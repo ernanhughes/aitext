{
 "cells": [
  {
   "cell_type": "code",
   "execution_count": null,
   "metadata": {},
   "outputs": [
    {
     "ename": "AttributeError",
     "evalue": "module 'zippy' has no attribute 'run_on_text_chunked'",
     "output_type": "error",
     "traceback": [
      "\u001b[31m---------------------------------------------------------------------------\u001b[39m",
      "\u001b[31mAttributeError\u001b[39m                            Traceback (most recent call last)",
      "\u001b[36mCell\u001b[39m\u001b[36m \u001b[39m\u001b[32mIn[5]\u001b[39m\u001b[32m, line 5\u001b[39m\n\u001b[32m      3\u001b[39m f = \u001b[38;5;28mopen\u001b[39m(\u001b[33m\"\u001b[39m\u001b[33mshakespeare.md\u001b[39m\u001b[33m\"\u001b[39m, \u001b[33m\"\u001b[39m\u001b[33mr\u001b[39m\u001b[33m\"\u001b[39m, encoding=\u001b[33m\"\u001b[39m\u001b[33mutf8\u001b[39m\u001b[33m\"\u001b[39m)\n\u001b[32m      4\u001b[39m text = f.read()\n\u001b[32m----> \u001b[39m\u001b[32m5\u001b[39m (classification, score) = \u001b[43mzippy\u001b[49m\u001b[43m.\u001b[49m\u001b[43mrun_on_text_chunked\u001b[49m(input_text=text, chunk_size=\u001b[32m1000\u001b[39m)\n\u001b[32m      6\u001b[39m \u001b[38;5;28mprint\u001b[39m(classification, score)\n",
      "\u001b[31mAttributeError\u001b[39m: module 'zippy' has no attribute 'run_on_text_chunked'"
     ]
    }
   ],
   "source": [
    "import zippy.zippy as zippy\n",
    "\n",
    "f = open(\"shakespeare.md\", \"r\", encoding=\"utf8\")\n",
    "text = f.read()\n",
    "(classification, score) = zippy.run_on_text_chunked(input_text=text, chunk_size=1000)\n",
    "print(classification, score)"
   ]
  }
 ],
 "metadata": {
  "kernelspec": {
   "display_name": "venv",
   "language": "python",
   "name": "python3"
  },
  "language_info": {
   "codemirror_mode": {
    "name": "ipython",
    "version": 3
   },
   "file_extension": ".py",
   "mimetype": "text/x-python",
   "name": "python",
   "nbconvert_exporter": "python",
   "pygments_lexer": "ipython3",
   "version": "3.11.4"
  }
 },
 "nbformat": 4,
 "nbformat_minor": 2
}
